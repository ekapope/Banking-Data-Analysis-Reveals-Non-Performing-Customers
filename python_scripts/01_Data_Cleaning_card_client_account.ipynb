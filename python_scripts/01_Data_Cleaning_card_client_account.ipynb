{
 "cells": [
  {
   "cell_type": "code",
   "execution_count": 110,
   "metadata": {},
   "outputs": [],
   "source": [
    "#Imporing the libraries\n",
    "\n",
    "import numpy as np\n",
    "import datetime\n",
    "import pandas as pd\n",
    "%matplotlib inline\n",
    "import matplotlib\n",
    "import matplotlib.pyplot as plt"
   ]
  },
  {
   "cell_type": "code",
   "execution_count": null,
   "metadata": {},
   "outputs": [],
   "source": [
    "#Importing the data files\n",
    "\n",
    "account = pd.read_csv('C:/Users/sakhtar/Downloads/Python-Group-Project-master/Python-Group-Project-master/data/data_berka/account.asc', sep=';')\n",
    "card = pd.read_csv('C:/Users/sakhtar/Downloads/Python-Group-Project-master/Python-Group-Project-master/data/data_berka/card.asc', sep=';')\n",
    "client = pd.read_csv('C:/Users/sakhtar/Downloads/Python-Group-Project-master/Python-Group-Project-master/data/data_berka/client.asc', sep=';')"
   ]
  },
  {
   "cell_type": "code",
   "execution_count": 112,
   "metadata": {},
   "outputs": [],
   "source": [
    "#Defining the starting and end dates\n",
    "start_date = datetime.datetime(1993,1,1)\n",
    "end_date = datetime.datetime(1999,1,1)"
   ]
  },
  {
   "cell_type": "code",
   "execution_count": null,
   "metadata": {},
   "outputs": [],
   "source": [
    "# function to convert a date to (days after start_date)\n",
    "def convert_date_to_days(x):\n",
    "    td = x - start_date\n",
    "    return td.days"
   ]
  },
  {
   "cell_type": "code",
   "execution_count": 113,
   "metadata": {},
   "outputs": [],
   "source": [
    "# function to convert a date to age at end_date\n",
    "def convert_to_age_days(x):\n",
    "    td = end_date - x\n",
    "    return td.days"
   ]
  },
  {
   "cell_type": "code",
   "execution_count": 114,
   "metadata": {},
   "outputs": [],
   "source": [
    "#Converting the Card issued date to a datetime object\n",
    "\n",
    "card['issued'] = pd.to_datetime(card['issued'].str[:6], format='%y%m%d')"
   ]
  },
  {
   "cell_type": "code",
   "execution_count": 115,
   "metadata": {},
   "outputs": [
    {
     "data": {
      "text/plain": [
       "0"
      ]
     },
     "execution_count": 115,
     "metadata": {},
     "output_type": "execute_result"
    }
   ],
   "source": [
    "# check the date column for null values\n",
    "\n",
    "card['issued'].isnull().sum()"
   ]
  },
  {
   "cell_type": "code",
   "execution_count": 116,
   "metadata": {},
   "outputs": [],
   "source": [
    "#Convert the card issued date to days in number\n",
    "card['card_issued_date'] = card['issued'].map(convert_date_to_days)\n",
    "del card['issued']"
   ]
  },
  {
   "cell_type": "code",
   "execution_count": 117,
   "metadata": {},
   "outputs": [],
   "source": [
    "# functions to convert the format of the birth_number.\n",
    "\n",
    "# returns the middle two digits\n",
    "\n",
    "def get_mid2_dig(x):\n",
    "    return int(x/100) % 100\n",
    "\n",
    "# returns the month of birth_number column.\n",
    "def get_month(x):\n",
    "    mth = get_mid2_dig(x)\n",
    "    if mth > 50:\n",
    "        return mth - 50\n",
    "    else:\n",
    "        return mth\n",
    "\n",
    "# return the month (of birth_number)\n",
    "def get_day(x):\n",
    "    return x % 100\n",
    "\n",
    "# returns the year (of birth_number)\n",
    "def get_year(x):\n",
    "    return int(x/10000)\n",
    "\n",
    "# determine the gender \n",
    "def get_gender(x):\n",
    "    mth = get_mid2_dig(x)\n",
    "    if mth > 50:\n",
    "        return 'F'\n",
    "    else:\n",
    "        return 'M'\n",
    "\n",
    "# convert the birth_number into date\n",
    "def convert_int_to_date(x):\n",
    "    yr = get_year(x) + 1900\n",
    "    mth = get_month(x)\n",
    "    day = get_day(x)\n",
    "    return datetime.datetime(yr, mth, day)\n",
    "\n",
    "# convert birth_number into age.\n",
    "def convert_birthday_to_age(x):\n",
    "    yr = get_year(x) + 1900\n",
    "    mth = get_month(x)\n",
    "    day = get_day(x)\n",
    "    return convert_to_age_days(datetime.datetime(yr,mth,day))/365\n",
    "    \n",
    "client['client_age'] = client['birth_number'].map(convert_birthday_to_age)\n",
    "client['client_gender'] = client['birth_number'].map(get_gender)\n",
    "del client['birth_number']"
   ]
  },
  {
   "cell_type": "code",
   "execution_count": 120,
   "metadata": {},
   "outputs": [
    {
     "data": {
      "text/html": [
       "<div>\n",
       "<style scoped>\n",
       "    .dataframe tbody tr th:only-of-type {\n",
       "        vertical-align: middle;\n",
       "    }\n",
       "\n",
       "    .dataframe tbody tr th {\n",
       "        vertical-align: top;\n",
       "    }\n",
       "\n",
       "    .dataframe thead th {\n",
       "        text-align: right;\n",
       "    }\n",
       "</style>\n",
       "<table border=\"1\" class=\"dataframe\">\n",
       "  <thead>\n",
       "    <tr style=\"text-align: right;\">\n",
       "      <th></th>\n",
       "      <th>card_id</th>\n",
       "      <th>disp_id</th>\n",
       "      <th>card_type</th>\n",
       "      <th>card_issued_date</th>\n",
       "    </tr>\n",
       "  </thead>\n",
       "  <tbody>\n",
       "    <tr>\n",
       "      <th>0</th>\n",
       "      <td>1005</td>\n",
       "      <td>9285</td>\n",
       "      <td>classic</td>\n",
       "      <td>310</td>\n",
       "    </tr>\n",
       "    <tr>\n",
       "      <th>1</th>\n",
       "      <td>104</td>\n",
       "      <td>588</td>\n",
       "      <td>classic</td>\n",
       "      <td>383</td>\n",
       "    </tr>\n",
       "    <tr>\n",
       "      <th>2</th>\n",
       "      <td>747</td>\n",
       "      <td>4915</td>\n",
       "      <td>classic</td>\n",
       "      <td>400</td>\n",
       "    </tr>\n",
       "    <tr>\n",
       "      <th>3</th>\n",
       "      <td>70</td>\n",
       "      <td>439</td>\n",
       "      <td>classic</td>\n",
       "      <td>403</td>\n",
       "    </tr>\n",
       "    <tr>\n",
       "      <th>4</th>\n",
       "      <td>577</td>\n",
       "      <td>3687</td>\n",
       "      <td>classic</td>\n",
       "      <td>410</td>\n",
       "    </tr>\n",
       "  </tbody>\n",
       "</table>\n",
       "</div>"
      ],
      "text/plain": [
       "   card_id  disp_id card_type  card_issued_date\n",
       "0     1005     9285   classic               310\n",
       "1      104      588   classic               383\n",
       "2      747     4915   classic               400\n",
       "3       70      439   classic               403\n",
       "4      577     3687   classic               410"
      ]
     },
     "execution_count": 120,
     "metadata": {},
     "output_type": "execute_result"
    }
   ],
   "source": [
    "# rename columns in Card\n",
    "card = card.rename(columns={'type': 'card_type'})\n",
    "card.head()"
   ]
  },
  {
   "cell_type": "code",
   "execution_count": 121,
   "metadata": {},
   "outputs": [
    {
     "data": {
      "text/html": [
       "<div>\n",
       "<style scoped>\n",
       "    .dataframe tbody tr th:only-of-type {\n",
       "        vertical-align: middle;\n",
       "    }\n",
       "\n",
       "    .dataframe tbody tr th {\n",
       "        vertical-align: top;\n",
       "    }\n",
       "\n",
       "    .dataframe thead th {\n",
       "        text-align: right;\n",
       "    }\n",
       "</style>\n",
       "<table border=\"1\" class=\"dataframe\">\n",
       "  <thead>\n",
       "    <tr style=\"text-align: right;\">\n",
       "      <th></th>\n",
       "      <th>client_id</th>\n",
       "      <th>client_district_id</th>\n",
       "      <th>client_age</th>\n",
       "      <th>client_gender</th>\n",
       "    </tr>\n",
       "  </thead>\n",
       "  <tbody>\n",
       "    <tr>\n",
       "      <th>0</th>\n",
       "      <td>1</td>\n",
       "      <td>18</td>\n",
       "      <td>28.071233</td>\n",
       "      <td>F</td>\n",
       "    </tr>\n",
       "    <tr>\n",
       "      <th>1</th>\n",
       "      <td>2</td>\n",
       "      <td>1</td>\n",
       "      <td>53.942466</td>\n",
       "      <td>M</td>\n",
       "    </tr>\n",
       "    <tr>\n",
       "      <th>2</th>\n",
       "      <td>3</td>\n",
       "      <td>1</td>\n",
       "      <td>58.268493</td>\n",
       "      <td>F</td>\n",
       "    </tr>\n",
       "    <tr>\n",
       "      <th>3</th>\n",
       "      <td>4</td>\n",
       "      <td>5</td>\n",
       "      <td>42.112329</td>\n",
       "      <td>M</td>\n",
       "    </tr>\n",
       "    <tr>\n",
       "      <th>4</th>\n",
       "      <td>5</td>\n",
       "      <td>5</td>\n",
       "      <td>38.523288</td>\n",
       "      <td>F</td>\n",
       "    </tr>\n",
       "  </tbody>\n",
       "</table>\n",
       "</div>"
      ],
      "text/plain": [
       "   client_id  client_district_id  client_age client_gender\n",
       "0          1                  18   28.071233             F\n",
       "1          2                   1   53.942466             M\n",
       "2          3                   1   58.268493             F\n",
       "3          4                   5   42.112329             M\n",
       "4          5                   5   38.523288             F"
      ]
     },
     "execution_count": 121,
     "metadata": {},
     "output_type": "execute_result"
    }
   ],
   "source": [
    "# Rename columns in Client dataset.\n",
    "client = client.rename(columns={'district_id': 'client_district_id'})\n",
    "client.head()"
   ]
  },
  {
   "cell_type": "code",
   "execution_count": 122,
   "metadata": {},
   "outputs": [],
   "source": [
    "# Export the cleaned Client Data set\n",
    "client.to_csv(\"cleaned_client.csv\", index=False)"
   ]
  },
  {
   "cell_type": "code",
   "execution_count": 123,
   "metadata": {},
   "outputs": [
    {
     "data": {
      "text/plain": [
       "(array([  6., 150., 426., 345., 387., 358., 382., 372., 344., 371., 372.,\n",
       "        392., 367., 254., 205., 189., 186., 185.,  66.,  12.]),\n",
       " array([11.27123288, 15.0790411 , 18.88684932, 22.69465753, 26.50246575,\n",
       "        30.31027397, 34.11808219, 37.92589041, 41.73369863, 45.54150685,\n",
       "        49.34931507, 53.15712329, 56.96493151, 60.77273973, 64.58054795,\n",
       "        68.38835616, 72.19616438, 76.0039726 , 79.81178082, 83.61958904,\n",
       "        87.42739726]),\n",
       " <a list of 20 Patch objects>)"
      ]
     },
     "execution_count": 123,
     "metadata": {},
     "output_type": "execute_result"
    },
    {
     "data": {
      "image/png": "[encoded data removed]",
      "text/plain": [
       "<Figure size 432x288 with 1 Axes>"
      ]
     },
     "metadata": {},
     "output_type": "display_data"
    }
   ],
   "source": [
    "#Plotting age of clients\n",
    "plt.hist(client['client_age'], 20)"
   ]
  },
  {
   "cell_type": "code",
   "execution_count": 124,
   "metadata": {},
   "outputs": [
    {
     "data": {
      "text/plain": [
       "array([<matplotlib.axes._subplots.AxesSubplot object at 0x000001FA0078A780>],\n",
       "      dtype=object)"
      ]
     },
     "execution_count": 124,
     "metadata": {},
     "output_type": "execute_result"
    },
    {
     "data": {
      "image/png": "[encoded data removed]",
      "text/plain": [
       "<Figure size 432x288 with 1 Axes>"
      ]
     },
     "metadata": {},
     "output_type": "display_data"
    }
   ],
   "source": [
    "#Plotting gender of clients\n",
    "client['client_gender'].value_counts().plot(kind='bar', subplots=True)"
   ]
  },
  {
   "cell_type": "code",
   "execution_count": 125,
   "metadata": {},
   "outputs": [
    {
     "data": {
      "text/html": [
       "<div>\n",
       "<style scoped>\n",
       "    .dataframe tbody tr th:only-of-type {\n",
       "        vertical-align: middle;\n",
       "    }\n",
       "\n",
       "    .dataframe tbody tr th {\n",
       "        vertical-align: top;\n",
       "    }\n",
       "\n",
       "    .dataframe thead th {\n",
       "        text-align: right;\n",
       "    }\n",
       "</style>\n",
       "<table border=\"1\" class=\"dataframe\">\n",
       "  <thead>\n",
       "    <tr style=\"text-align: right;\">\n",
       "      <th></th>\n",
       "      <th>account_id</th>\n",
       "      <th>account_district_id</th>\n",
       "      <th>frequency</th>\n",
       "      <th>date</th>\n",
       "    </tr>\n",
       "  </thead>\n",
       "  <tbody>\n",
       "    <tr>\n",
       "      <th>0</th>\n",
       "      <td>576</td>\n",
       "      <td>55</td>\n",
       "      <td>POPLATEK MESICNE</td>\n",
       "      <td>930101</td>\n",
       "    </tr>\n",
       "    <tr>\n",
       "      <th>1</th>\n",
       "      <td>3818</td>\n",
       "      <td>74</td>\n",
       "      <td>POPLATEK MESICNE</td>\n",
       "      <td>930101</td>\n",
       "    </tr>\n",
       "    <tr>\n",
       "      <th>2</th>\n",
       "      <td>704</td>\n",
       "      <td>55</td>\n",
       "      <td>POPLATEK MESICNE</td>\n",
       "      <td>930101</td>\n",
       "    </tr>\n",
       "    <tr>\n",
       "      <th>3</th>\n",
       "      <td>2378</td>\n",
       "      <td>16</td>\n",
       "      <td>POPLATEK MESICNE</td>\n",
       "      <td>930101</td>\n",
       "    </tr>\n",
       "    <tr>\n",
       "      <th>4</th>\n",
       "      <td>2632</td>\n",
       "      <td>24</td>\n",
       "      <td>POPLATEK MESICNE</td>\n",
       "      <td>930102</td>\n",
       "    </tr>\n",
       "  </tbody>\n",
       "</table>\n",
       "</div>"
      ],
      "text/plain": [
       "   account_id  account_district_id         frequency    date\n",
       "0         576                   55  POPLATEK MESICNE  930101\n",
       "1        3818                   74  POPLATEK MESICNE  930101\n",
       "2         704                   55  POPLATEK MESICNE  930101\n",
       "3        2378                   16  POPLATEK MESICNE  930101\n",
       "4        2632                   24  POPLATEK MESICNE  930102"
      ]
     },
     "execution_count": 125,
     "metadata": {},
     "output_type": "execute_result"
    }
   ],
   "source": [
    "# Renaming columns for Account\n",
    "account = account.rename(columns={'district_id': 'account_district_id'})\n",
    "\n",
    "account.head()"
   ]
  },
  {
   "cell_type": "code",
   "execution_count": 126,
   "metadata": {},
   "outputs": [],
   "source": [
    "#Converting date columns in the Account table\n",
    "account['date'] = account['date'].map(convert_int_to_date)\n",
    "account['account_date_opened'] = account['date'].map(convert_date_to_days)\n",
    "del account['date']"
   ]
  },
  {
   "cell_type": "code",
   "execution_count": 127,
   "metadata": {},
   "outputs": [
    {
     "data": {
      "text/plain": [
       "POPLATEK MESICNE      4167\n",
       "POPLATEK TYDNE         240\n",
       "POPLATEK PO OBRATU      93\n",
       "Name: frequency, dtype: int64"
      ]
     },
     "execution_count": 127,
     "metadata": {},
     "output_type": "execute_result"
    }
   ],
   "source": [
    "#Checking the frequency ofAccount table\n",
    "account['frequency'].value_counts()"
   ]
  },
  {
   "cell_type": "code",
   "execution_count": 128,
   "metadata": {},
   "outputs": [],
   "source": [
    "# Translate frequency of transactions to English.\n",
    "def convert_freq_to_eng(x):\n",
    "    if x == 'POPLATEK MESICNE':\n",
    "        return 'MONTHLY'\n",
    "    elif x == 'POPLATEK TYDNE':\n",
    "        return 'WEEKLY'\n",
    "    elif x == 'POPLATEK PO OBRATU':\n",
    "        return 'TRANSACTION'\n",
    "    else:\n",
    "        return 'UNKNOWN'\n",
    "    \n",
    "account['frequency'] = account['frequency'].map(convert_freq_to_eng)"
   ]
  },
  {
   "cell_type": "code",
   "execution_count": 129,
   "metadata": {},
   "outputs": [
    {
     "data": {
      "text/html": [
       "<div>\n",
       "<style scoped>\n",
       "    .dataframe tbody tr th:only-of-type {\n",
       "        vertical-align: middle;\n",
       "    }\n",
       "\n",
       "    .dataframe tbody tr th {\n",
       "        vertical-align: top;\n",
       "    }\n",
       "\n",
       "    .dataframe thead th {\n",
       "        text-align: right;\n",
       "    }\n",
       "</style>\n",
       "<table border=\"1\" class=\"dataframe\">\n",
       "  <thead>\n",
       "    <tr style=\"text-align: right;\">\n",
       "      <th></th>\n",
       "      <th>account_id</th>\n",
       "      <th>account_district_id</th>\n",
       "      <th>statement_freq</th>\n",
       "      <th>account_date_opened</th>\n",
       "    </tr>\n",
       "  </thead>\n",
       "  <tbody>\n",
       "    <tr>\n",
       "      <th>0</th>\n",
       "      <td>576</td>\n",
       "      <td>55</td>\n",
       "      <td>MONTHLY</td>\n",
       "      <td>0</td>\n",
       "    </tr>\n",
       "    <tr>\n",
       "      <th>1</th>\n",
       "      <td>3818</td>\n",
       "      <td>74</td>\n",
       "      <td>MONTHLY</td>\n",
       "      <td>0</td>\n",
       "    </tr>\n",
       "    <tr>\n",
       "      <th>2</th>\n",
       "      <td>704</td>\n",
       "      <td>55</td>\n",
       "      <td>MONTHLY</td>\n",
       "      <td>0</td>\n",
       "    </tr>\n",
       "    <tr>\n",
       "      <th>3</th>\n",
       "      <td>2378</td>\n",
       "      <td>16</td>\n",
       "      <td>MONTHLY</td>\n",
       "      <td>0</td>\n",
       "    </tr>\n",
       "    <tr>\n",
       "      <th>4</th>\n",
       "      <td>2632</td>\n",
       "      <td>24</td>\n",
       "      <td>MONTHLY</td>\n",
       "      <td>1</td>\n",
       "    </tr>\n",
       "  </tbody>\n",
       "</table>\n",
       "</div>"
      ],
      "text/plain": [
       "   account_id  account_district_id statement_freq  account_date_opened\n",
       "0         576                   55        MONTHLY                    0\n",
       "1        3818                   74        MONTHLY                    0\n",
       "2         704                   55        MONTHLY                    0\n",
       "3        2378                   16        MONTHLY                    0\n",
       "4        2632                   24        MONTHLY                    1"
      ]
     },
     "execution_count": 129,
     "metadata": {},
     "output_type": "execute_result"
    }
   ],
   "source": [
    "# Renaming columns for Account\n",
    "\n",
    "account = account.rename(columns={'frequency': 'statement_freq'})\n",
    "account.head()"
   ]
  },
  {
   "cell_type": "code",
   "execution_count": 130,
   "metadata": {},
   "outputs": [],
   "source": [
    "# Export the cleaned Account Data set\n",
    "account.to_csv(\"cleaned_account.csv\", index=False)"
   ]
  },
  {
   "cell_type": "code",
   "execution_count": null,
   "metadata": {},
   "outputs": [],
   "source": [
    "# Export the cleaned Card Data set\n",
    "card.to_csv(\"cleaned_card.csv\", index=False)"
   ]
  }
 ],
 "metadata": {
  "kernelspec": {
   "display_name": "Python 3",
   "language": "python",
   "name": "python3"
  },
  "language_info": {
   "codemirror_mode": {
    "name": "ipython",
    "version": 3
   },
   "file_extension": ".py",
   "mimetype": "text/x-python",
   "name": "python",
   "nbconvert_exporter": "python",
   "pygments_lexer": "ipython3",
   "version": "3.6.5"
  }
 },
 "nbformat": 4,
 "nbformat_minor": 2
}
